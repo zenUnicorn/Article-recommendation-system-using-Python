{
 "cells": [
  {
   "cell_type": "code",
   "execution_count": 72,
   "id": "1630d3f6",
   "metadata": {},
   "outputs": [],
   "source": [
    "#import all the libraries needed\n",
    "\n",
    "import pandas as pd\n",
    "from IPython.display import display\n",
    "from sklearn.feature_extraction.text import TfidfVectorizer\n",
    "from sklearn.metrics.pairwise import cosine_similarity"
   ]
  },
  {
   "cell_type": "code",
   "execution_count": 73,
   "id": "ea9f527a",
   "metadata": {},
   "outputs": [
    {
     "data": {
      "text/plain": [
       "(3122, 13)"
      ]
     },
     "execution_count": 73,
     "metadata": {},
     "output_type": "execute_result"
    }
   ],
   "source": [
    "#import the articles dataset\n",
    "article_data = pd.read_csv(\"articles_data.csv\")\n",
    "\n",
    "#let's get the data information\n",
    "article_data.shape"
   ]
  },
  {
   "cell_type": "code",
   "execution_count": 74,
   "id": "ce20fb49",
   "metadata": {},
   "outputs": [
    {
     "data": {
      "text/html": [
       "<div>\n",
       "<style scoped>\n",
       "    .dataframe tbody tr th:only-of-type {\n",
       "        vertical-align: middle;\n",
       "    }\n",
       "\n",
       "    .dataframe tbody tr th {\n",
       "        vertical-align: top;\n",
       "    }\n",
       "\n",
       "    .dataframe thead th {\n",
       "        text-align: right;\n",
       "    }\n",
       "</style>\n",
       "<table border=\"1\" class=\"dataframe\">\n",
       "  <thead>\n",
       "    <tr style=\"text-align: right;\">\n",
       "      <th></th>\n",
       "      <th>eventType</th>\n",
       "      <th>authorPersonId</th>\n",
       "      <th>contentType</th>\n",
       "      <th>url</th>\n",
       "      <th>title</th>\n",
       "      <th>text</th>\n",
       "      <th>lang</th>\n",
       "    </tr>\n",
       "  </thead>\n",
       "  <tbody>\n",
       "    <tr>\n",
       "      <th>0</th>\n",
       "      <td>CONTENT REMOVED</td>\n",
       "      <td>4340306774493623681</td>\n",
       "      <td>HTML</td>\n",
       "      <td>http://www.nytimes.com/2016/03/28/business/dea...</td>\n",
       "      <td>Ethereum, a Virtual Currency, Enables Transact...</td>\n",
       "      <td>All of this work is still very early. The firs...</td>\n",
       "      <td>en</td>\n",
       "    </tr>\n",
       "    <tr>\n",
       "      <th>1</th>\n",
       "      <td>CONTENT SHARED</td>\n",
       "      <td>4340306774493623681</td>\n",
       "      <td>HTML</td>\n",
       "      <td>http://www.nytimes.com/2016/03/28/business/dea...</td>\n",
       "      <td>Ethereum, a Virtual Currency, Enables Transact...</td>\n",
       "      <td>All of this work is still very early. The firs...</td>\n",
       "      <td>en</td>\n",
       "    </tr>\n",
       "    <tr>\n",
       "      <th>2</th>\n",
       "      <td>CONTENT SHARED</td>\n",
       "      <td>4340306774493623681</td>\n",
       "      <td>HTML</td>\n",
       "      <td>http://cointelegraph.com/news/bitcoin-future-w...</td>\n",
       "      <td>Bitcoin Future: When GBPcoin of Branson Wins O...</td>\n",
       "      <td>The alarm clock wakes me at 8:00 with stream o...</td>\n",
       "      <td>en</td>\n",
       "    </tr>\n",
       "    <tr>\n",
       "      <th>3</th>\n",
       "      <td>CONTENT SHARED</td>\n",
       "      <td>3891637997717104548</td>\n",
       "      <td>HTML</td>\n",
       "      <td>https://cloudplatform.googleblog.com/2016/03/G...</td>\n",
       "      <td>Google Data Center 360° Tour</td>\n",
       "      <td>We're excited to share the Google Data Center ...</td>\n",
       "      <td>en</td>\n",
       "    </tr>\n",
       "    <tr>\n",
       "      <th>4</th>\n",
       "      <td>CONTENT SHARED</td>\n",
       "      <td>4340306774493623681</td>\n",
       "      <td>HTML</td>\n",
       "      <td>https://bitcoinmagazine.com/articles/ibm-wants...</td>\n",
       "      <td>IBM Wants to \"Evolve the Internet\" With Blockc...</td>\n",
       "      <td>The Aite Group projects the blockchain market ...</td>\n",
       "      <td>en</td>\n",
       "    </tr>\n",
       "  </tbody>\n",
       "</table>\n",
       "</div>"
      ],
      "text/plain": [
       "         eventType       authorPersonId contentType  \\\n",
       "0  CONTENT REMOVED  4340306774493623681        HTML   \n",
       "1   CONTENT SHARED  4340306774493623681        HTML   \n",
       "2   CONTENT SHARED  4340306774493623681        HTML   \n",
       "3   CONTENT SHARED  3891637997717104548        HTML   \n",
       "4   CONTENT SHARED  4340306774493623681        HTML   \n",
       "\n",
       "                                                 url  \\\n",
       "0  http://www.nytimes.com/2016/03/28/business/dea...   \n",
       "1  http://www.nytimes.com/2016/03/28/business/dea...   \n",
       "2  http://cointelegraph.com/news/bitcoin-future-w...   \n",
       "3  https://cloudplatform.googleblog.com/2016/03/G...   \n",
       "4  https://bitcoinmagazine.com/articles/ibm-wants...   \n",
       "\n",
       "                                               title  \\\n",
       "0  Ethereum, a Virtual Currency, Enables Transact...   \n",
       "1  Ethereum, a Virtual Currency, Enables Transact...   \n",
       "2  Bitcoin Future: When GBPcoin of Branson Wins O...   \n",
       "3                       Google Data Center 360° Tour   \n",
       "4  IBM Wants to \"Evolve the Internet\" With Blockc...   \n",
       "\n",
       "                                                text lang  \n",
       "0  All of this work is still very early. The firs...   en  \n",
       "1  All of this work is still very early. The firs...   en  \n",
       "2  The alarm clock wakes me at 8:00 with stream o...   en  \n",
       "3  We're excited to share the Google Data Center ...   en  \n",
       "4  The Aite Group projects the blockchain market ...   en  "
      ]
     },
     "execution_count": 74,
     "metadata": {},
     "output_type": "execute_result"
    }
   ],
   "source": [
    "#lets clean up the dataset by dropping columns that we don't need from the dataset\n",
    "article_data.drop(['timestamp', 'contentId', 'authorSessionId', 'authorUserAgent', 'authorRegion', 'authorCountry'], axis=1, inplace=True)\n",
    "\n",
    "#We have a cleaner data. \n",
    "article_data.head()\n"
   ]
  },
  {
   "cell_type": "code",
   "execution_count": 75,
   "id": "21cfe39f",
   "metadata": {},
   "outputs": [
    {
     "name": "stdout",
     "output_type": "stream",
     "text": [
      "CONTENT SHARED     3047\n",
      "CONTENT REMOVED      75\n",
      "Name: eventType, dtype: int64\n"
     ]
    }
   ],
   "source": [
    "#eventType: shows Article shared or article removed at a particular timestamp.\n",
    "print(article_data['eventType'].value_counts())"
   ]
  },
  {
   "cell_type": "code",
   "execution_count": 76,
   "id": "04a53b9d",
   "metadata": {},
   "outputs": [
    {
     "name": "stdout",
     "output_type": "stream",
     "text": [
      "(3047, 7)\n"
     ]
    }
   ],
   "source": [
    "#we have to remove the CONTENT REMOVED data from the evenType column because they are helpful for our recommender system\n",
    "#Now let's make the CONTENT SHARED = evenType column \n",
    "\n",
    "article_data = article_data[article_data['eventType'] == 'CONTENT SHARED']\n",
    "print(article_data.shape)\n",
    "\n"
   ]
  },
  {
   "cell_type": "code",
   "execution_count": 77,
   "id": "3cfa2bc1",
   "metadata": {},
   "outputs": [
    {
     "data": {
      "text/html": [
       "<div>\n",
       "<style scoped>\n",
       "    .dataframe tbody tr th:only-of-type {\n",
       "        vertical-align: middle;\n",
       "    }\n",
       "\n",
       "    .dataframe tbody tr th {\n",
       "        vertical-align: top;\n",
       "    }\n",
       "\n",
       "    .dataframe thead th {\n",
       "        text-align: right;\n",
       "    }\n",
       "</style>\n",
       "<table border=\"1\" class=\"dataframe\">\n",
       "  <thead>\n",
       "    <tr style=\"text-align: right;\">\n",
       "      <th></th>\n",
       "      <th>eventType</th>\n",
       "      <th>authorPersonId</th>\n",
       "      <th>contentType</th>\n",
       "      <th>url</th>\n",
       "      <th>title</th>\n",
       "      <th>text</th>\n",
       "      <th>lang</th>\n",
       "    </tr>\n",
       "  </thead>\n",
       "  <tbody>\n",
       "    <tr>\n",
       "      <th>1</th>\n",
       "      <td>CONTENT SHARED</td>\n",
       "      <td>4340306774493623681</td>\n",
       "      <td>HTML</td>\n",
       "      <td>http://www.nytimes.com/2016/03/28/business/dea...</td>\n",
       "      <td>Ethereum, a Virtual Currency, Enables Transact...</td>\n",
       "      <td>All of this work is still very early. The firs...</td>\n",
       "      <td>en</td>\n",
       "    </tr>\n",
       "    <tr>\n",
       "      <th>2</th>\n",
       "      <td>CONTENT SHARED</td>\n",
       "      <td>4340306774493623681</td>\n",
       "      <td>HTML</td>\n",
       "      <td>http://cointelegraph.com/news/bitcoin-future-w...</td>\n",
       "      <td>Bitcoin Future: When GBPcoin of Branson Wins O...</td>\n",
       "      <td>The alarm clock wakes me at 8:00 with stream o...</td>\n",
       "      <td>en</td>\n",
       "    </tr>\n",
       "    <tr>\n",
       "      <th>3</th>\n",
       "      <td>CONTENT SHARED</td>\n",
       "      <td>3891637997717104548</td>\n",
       "      <td>HTML</td>\n",
       "      <td>https://cloudplatform.googleblog.com/2016/03/G...</td>\n",
       "      <td>Google Data Center 360° Tour</td>\n",
       "      <td>We're excited to share the Google Data Center ...</td>\n",
       "      <td>en</td>\n",
       "    </tr>\n",
       "    <tr>\n",
       "      <th>4</th>\n",
       "      <td>CONTENT SHARED</td>\n",
       "      <td>4340306774493623681</td>\n",
       "      <td>HTML</td>\n",
       "      <td>https://bitcoinmagazine.com/articles/ibm-wants...</td>\n",
       "      <td>IBM Wants to \"Evolve the Internet\" With Blockc...</td>\n",
       "      <td>The Aite Group projects the blockchain market ...</td>\n",
       "      <td>en</td>\n",
       "    </tr>\n",
       "    <tr>\n",
       "      <th>5</th>\n",
       "      <td>CONTENT SHARED</td>\n",
       "      <td>4340306774493623681</td>\n",
       "      <td>HTML</td>\n",
       "      <td>http://www.coindesk.com/ieee-blockchain-oxford...</td>\n",
       "      <td>IEEE to Talk Blockchain at Cloud Computing Oxf...</td>\n",
       "      <td>One of the largest and oldest organizations fo...</td>\n",
       "      <td>en</td>\n",
       "    </tr>\n",
       "  </tbody>\n",
       "</table>\n",
       "</div>"
      ],
      "text/plain": [
       "        eventType       authorPersonId contentType  \\\n",
       "1  CONTENT SHARED  4340306774493623681        HTML   \n",
       "2  CONTENT SHARED  4340306774493623681        HTML   \n",
       "3  CONTENT SHARED  3891637997717104548        HTML   \n",
       "4  CONTENT SHARED  4340306774493623681        HTML   \n",
       "5  CONTENT SHARED  4340306774493623681        HTML   \n",
       "\n",
       "                                                 url  \\\n",
       "1  http://www.nytimes.com/2016/03/28/business/dea...   \n",
       "2  http://cointelegraph.com/news/bitcoin-future-w...   \n",
       "3  https://cloudplatform.googleblog.com/2016/03/G...   \n",
       "4  https://bitcoinmagazine.com/articles/ibm-wants...   \n",
       "5  http://www.coindesk.com/ieee-blockchain-oxford...   \n",
       "\n",
       "                                               title  \\\n",
       "1  Ethereum, a Virtual Currency, Enables Transact...   \n",
       "2  Bitcoin Future: When GBPcoin of Branson Wins O...   \n",
       "3                       Google Data Center 360° Tour   \n",
       "4  IBM Wants to \"Evolve the Internet\" With Blockc...   \n",
       "5  IEEE to Talk Blockchain at Cloud Computing Oxf...   \n",
       "\n",
       "                                                text lang  \n",
       "1  All of this work is still very early. The firs...   en  \n",
       "2  The alarm clock wakes me at 8:00 with stream o...   en  \n",
       "3  We're excited to share the Google Data Center ...   en  \n",
       "4  The Aite Group projects the blockchain market ...   en  \n",
       "5  One of the largest and oldest organizations fo...   en  "
      ]
     },
     "execution_count": 77,
     "metadata": {},
     "output_type": "execute_result"
    }
   ],
   "source": [
    "article_data.head()\n"
   ]
  },
  {
   "cell_type": "code",
   "execution_count": 78,
   "id": "2c1d5566",
   "metadata": {},
   "outputs": [],
   "source": [
    "def create_addition(x):\n",
    "    Addition = ' '.join(x['text'])\n",
    "    return Addition\n",
    "\n",
    "article_data['Addition'] = article_data.apply(create_addition, axis=1)\n"
   ]
  },
  {
   "cell_type": "code",
   "execution_count": 79,
   "id": "b4b1fd66",
   "metadata": {},
   "outputs": [],
   "source": [
    "# Lets define a TF-IDF Vectorizer Object, we shoudl also remove all english stop words such as 'am', 'the', 'a', 'as' \n",
    "tfidf = TfidfVectorizer(stop_words='english')\n",
    "\n",
    "# Build the required TF-IDF matrix by fitting and transforming the data\n",
    "tfidf_matrix = tfidf.fit_transform(article_data['text'])"
   ]
  },
  {
   "cell_type": "code",
   "execution_count": 99,
   "id": "c491a8c4",
   "metadata": {},
   "outputs": [
    {
     "name": "stdout",
     "output_type": "stream",
     "text": [
      "(3047, 72312)\n",
      "['ampliam', 'ampliamos', 'ampliando', 'ampliar', 'ampliaram', 'ampliará', 'ampliava', 'ampliação', 'amplie', 'ampliem', 'amplifica']\n"
     ]
    }
   ],
   "source": [
    "# Output the shape of tfidf_matrix\n",
    "print(tfidf_matrix.shape)\n",
    "# print(tfidf.get_stop_words().pop())\n",
    "\n",
    "# Array mapping from feature integer indices to feature name.\n",
    "print(tfidf.get_feature_names()[5000:5011])"
   ]
  },
  {
   "cell_type": "code",
   "execution_count": 81,
   "id": "1b50da34",
   "metadata": {},
   "outputs": [
    {
     "data": {
      "text/plain": [
       "(3047, 3047)"
      ]
     },
     "metadata": {},
     "output_type": "display_data"
    },
    {
     "data": {
      "text/plain": [
       "array([[1.        , 0.03003382, 0.01607362, ..., 0.05093481, 0.08979393,\n",
       "        0.02016659],\n",
       "       [0.03003382, 1.        , 0.0234537 , ..., 0.02699924, 0.03326086,\n",
       "        0.0113887 ],\n",
       "       [0.01607362, 0.0234537 , 1.        , ..., 0.02257124, 0.04506441,\n",
       "        0.        ],\n",
       "       ...,\n",
       "       [0.05093481, 0.02699924, 0.02257124, ..., 1.        , 0.05944899,\n",
       "        0.07901536],\n",
       "       [0.08979393, 0.03326086, 0.04506441, ..., 0.05944899, 1.        ,\n",
       "        0.04326837],\n",
       "       [0.02016659, 0.0113887 , 0.        , ..., 0.07901536, 0.04326837,\n",
       "        1.        ]])"
      ]
     },
     "metadata": {},
     "output_type": "display_data"
    }
   ],
   "source": [
    "cos_sim = cosine_similarity(tfidf_matrix, tfidf_matrix, True)\n",
    "display(cos_sim.shape)\n",
    "display(cos_sim)"
   ]
  },
  {
   "cell_type": "code",
   "execution_count": 82,
   "id": "8c059291",
   "metadata": {},
   "outputs": [
    {
     "data": {
      "text/plain": [
       "title\n",
       "Ethereum, a Virtual Currency, Enables Transactions That Rival Bitcoin's    0\n",
       "Bitcoin Future: When GBPcoin of Branson Wins Over USDcoin of Trump         1\n",
       "Google Data Center 360° Tour                                               2\n",
       "IBM Wants to \"Evolve the Internet\" With Blockchain Technology              3\n",
       "IEEE to Talk Blockchain at Cloud Computing Oxford-Con - CoinDesk           4\n",
       "dtype: int64"
      ]
     },
     "metadata": {},
     "output_type": "display_data"
    }
   ],
   "source": [
    "# let's reset the index of main DataFrame and construct reverse mapping as before\n",
    "md = article_data.reset_index()\n",
    "idn = pd.Series(md.index, index=md['title']).drop_duplicates()\n",
    "display(idn[:5])"
   ]
  },
  {
   "cell_type": "code",
   "execution_count": 96,
   "id": "469e3668",
   "metadata": {},
   "outputs": [
    {
     "name": "stdout",
     "output_type": "stream",
     "text": [
      "136     Google shares data center security and design ...\n",
      "650                          This year's Founders' Letter\n",
      "240     Google Cloud Platform: The smart person's guid...\n",
      "871     YouTube's New Messenger Means You'll Never Hav...\n",
      "526     Top 5 GCP NEXT breakout sessions on YouTube (s...\n",
      "849     Google I/O 2016 Preview: A Chrome/Android merg...\n",
      "918     Google I/O 2016 preview: Android N, Android VR...\n",
      "2813    [Tools] How to Record your Desktop Screen with...\n",
      "922     Google I/O 2016 Preview: Machine Learning, Vir...\n",
      "76      Google admits original enterprise cloud strate...\n",
      "Name: title, dtype: object\n"
     ]
    }
   ],
   "source": [
    "# The function that takes in article title as input and gives an output of most similar articles\n",
    "def recommend_articles(title, indices, cosine_sim, data):\n",
    "    # Get the index of the article that matches the title\n",
    "    idx = indices[title]\n",
    "\n",
    "    # Get the pairwsie similarity scores of all articles with that article\n",
    "    sim_scores = list(enumerate(cosine_sim[idx]))\n",
    "\n",
    "    # Sort the articles based on the similarity scores\n",
    "    sim_scores = sorted(sim_scores, key=lambda x: x[1], reverse=True)\n",
    "\n",
    "    # Get the scores of the 10 most similar movies\n",
    "    sim_scores = sim_scores[1:11]\n",
    "\n",
    "    # Get the article indices\n",
    "    movie_indices = [i[0] for i in sim_scores]\n",
    "\n",
    "    # Return the top 10 most similar articles\n",
    "    return data['title'].iloc[movie_indices]\n",
    "\n",
    "print(recommend_articles('Google Data Center 360° Tour', idn, cosine_sim, md))"
   ]
  },
  {
   "cell_type": "code",
   "execution_count": 97,
   "id": "af7ac324",
   "metadata": {},
   "outputs": [
    {
     "name": "stdout",
     "output_type": "stream",
     "text": [
      "0      Ethereum, a Virtual Currency, Enables Transact...\n",
      "505    For Blockchain VCs, the Time for Ethereum Inve...\n",
      "178    Ethereum and Bitcoin Are Market Leaders But No...\n",
      "106    Solidity Available in Visual Studio - Ethereum...\n",
      "80     Microsoft Adds Ethereum to Windows Platform Fo...\n",
      "181    Microsoft Continues to Embrace Ethereum & Bitc...\n",
      "109    Cashila Announces Convenient Buy and Sell Feat...\n",
      "125    Eyeing Volume, Asian Exchanges Add Support for...\n",
      "113    Decentralized Options Exchange Etheropt Uses A...\n",
      "17     Five Bitcoin and Ethereum Based Projects to Wa...\n",
      "Name: title, dtype: object\n"
     ]
    }
   ],
   "source": [
    "print(recommend_articles('The Rise And Growth of Ethereum Gets Mainstream Coverage', idn, cosine_sim, md))"
   ]
  },
  {
   "cell_type": "code",
   "execution_count": null,
   "id": "f37a02ee",
   "metadata": {},
   "outputs": [],
   "source": []
  },
  {
   "cell_type": "code",
   "execution_count": null,
   "id": "5ce296c0",
   "metadata": {},
   "outputs": [],
   "source": []
  }
 ],
 "metadata": {
  "kernelspec": {
   "display_name": "Python 3 (ipykernel)",
   "language": "python",
   "name": "python3"
  },
  "language_info": {
   "codemirror_mode": {
    "name": "ipython",
    "version": 3
   },
   "file_extension": ".py",
   "mimetype": "text/x-python",
   "name": "python",
   "nbconvert_exporter": "python",
   "pygments_lexer": "ipython3",
   "version": "3.10.2"
  }
 },
 "nbformat": 4,
 "nbformat_minor": 5
}
 "nbformat": 4,
 "nbformat_minor": 5
}
